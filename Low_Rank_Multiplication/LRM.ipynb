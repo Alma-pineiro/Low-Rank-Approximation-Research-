{
 "cells": [
  {
   "cell_type": "markdown",
   "id": "7e5f9121",
   "metadata": {},
   "source": [
    "In this notebook, the progress of the Low-Rank Multiplication program is demonstrated. It involves two matrices, where SVD is performed on matrix A while matrix B remains unchanged. The percentage determines the number of vectors to retain from the sigma matrix, which are then used to multiply matrix A by matrix B."
   ]
  },
  {
   "cell_type": "code",
   "execution_count": 3,
   "id": "9278b3cb",
   "metadata": {},
   "outputs": [
    {
     "name": "stdout",
     "output_type": "stream",
     "text": [
      "[[54 16 37]\n",
      " [ 3 18 11]\n",
      " [23 21 37]]\n"
     ]
    }
   ],
   "source": [
    "import numpy as np\n",
    "\n",
    "#First we are going to multiply matrix A and matrix B without either of them meing reduced by SVD\n",
    "matrix_A = np.array([[1, 6, 4, 5], \n",
    "            [2, -1, 0, 2],\n",
    "            [4, 3, -2, 3]]) \n",
    "\n",
    "matrix_B = np.array([[2, 5, 3, 2],\n",
    "            [3, -2, 0, 5], \n",
    "            [1, 3, -3, 6]])\n",
    "\n",
    "normal  = matrix_A @ matrix_B.T\n",
    "print(normal)\n",
    "\n",
    "\n",
    "\n"
   ]
  },
  {
   "cell_type": "code",
   "execution_count": 4,
   "id": "a8432747",
   "metadata": {},
   "outputs": [
    {
     "name": "stdout",
     "output_type": "stream",
     "text": [
      "Matrix U:\n",
      "[[ 0.87319638  0.48205415 -0.07177664]\n",
      " [ 0.1219709  -0.35873414 -0.92543661]\n",
      " [ 0.47185928 -0.79933323  0.37204193]]\n",
      "Matrix Σ :\n",
      "[[9.72158252 0.         0.        ]\n",
      " [0.         5.04456835 0.        ]\n",
      " [0.         0.         2.24569887]]\n",
      "Matrix V^T:\n",
      "[[ 0.30906237  0.67198784  0.262207    0.61980666]\n",
      " [-0.68048381  0.16910452  0.69914466 -0.13979338]\n",
      " [-0.19347301  0.71732796 -0.45918463 -0.48698898]\n",
      " [-0.63560242 -0.07264028 -0.48124183  0.59928228]]\n"
     ]
    }
   ],
   "source": [
    "def LRM(matrix_A, matrix_B, percentage):\n",
    " #Perform SVD on matrix A\n",
    "    U, S, VT = np.linalg.svd(matrix_A)\n",
    "\n",
    "\n",
    "    Sigma = np.diag(S)\n",
    "\n",
    "    #Print all of the SVD matrices\n",
    "    print(\"Matrix U:\", U, sep=\"\\n\")\n",
    "    print(\"Matrix Σ :\", Sigma, sep=\"\\n\")\n",
    "    print(\"Matrix V^T:\", VT, sep=\"\\n\")  \n",
    "\n",
    "\n",
    "\n",
    "matrix_A = np.array([[1, 6, 4, 5], \n",
    "            [2, -1, 0, 2],\n",
    "            [4, 3, -2, 3]]) \n",
    "\n",
    "matrix_B = np.array([[2, 5, 3, 2],\n",
    "            [3, -2, 0, 5], \n",
    "            [1, 3, -3, 6]])\n",
    "\n",
    "LRM(matrix_A, matrix_B, 0.100)"
   ]
  },
  {
   "cell_type": "code",
   "execution_count": null,
   "id": "4ae3b0fe",
   "metadata": {},
   "outputs": [],
   "source": []
  }
 ],
 "metadata": {
  "kernelspec": {
   "display_name": "Python 3",
   "language": "python",
   "name": "python3"
  },
  "language_info": {
   "codemirror_mode": {
    "name": "ipython",
    "version": 3
   },
   "file_extension": ".py",
   "mimetype": "text/x-python",
   "name": "python",
   "nbconvert_exporter": "python",
   "pygments_lexer": "ipython3",
   "version": "3.11.4"
  }
 },
 "nbformat": 4,
 "nbformat_minor": 5
}
