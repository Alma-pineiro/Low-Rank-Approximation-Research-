{
 "cells": [
  {
   "cell_type": "markdown",
   "id": "b803fcca",
   "metadata": {},
   "source": [
    "In this notebook, the progress of the Low-Rank Multiplication program is demonstrated. It involves two matrices, where SVD is performed on matrix A while matrix B remains unchanged. The percentage determines the number of vectors to retain from the sigma matrix, which are then used to multiply matrix A by matrix B."
   ]
  },
  {
   "cell_type": "code",
   "execution_count": 1,
   "id": "4e52e531",
   "metadata": {},
   "outputs": [
    {
     "name": "stdout",
     "output_type": "stream",
     "text": [
      "\n",
      "Using top 3 singular values (100.0%) for LRM\n",
      "Original Singular Values (S): [15.12497522  9.30512914  6.68204283]\n",
      "Top-k Singular Values (S_k): [15.12497522  9.30512914  6.68204283]\n",
      "Final Result of LRM (approx):\n",
      "[[ -32.   38.  -31.]\n",
      " [ -61.    5. -106.]\n",
      " [  22.  -48. -144.]]\n",
      "Percentage Error: 0.000000%\n",
      "\n",
      "Using top 2 singular values (61.7%) for LRM\n",
      "Original Singular Values (S): [15.12497522  9.30512914  6.68204283]\n",
      "Top-k Singular Values (S_k): [15.12497522  9.30512914]\n",
      "Final Result of LRM (approx):\n",
      "[[ -44.02788059   23.99135296  -40.8238979 ]\n",
      " [ -51.82578387   15.68503754  -98.50686254]\n",
      " [  19.17917183  -51.28536569 -146.30394106]]\n",
      "Percentage Error: 13.066433%\n",
      "\n",
      "Using top 1 singular values (33.3%) for LRM\n",
      "Original Singular Values (S): [15.12497522  9.30512914  6.68204283]\n",
      "Top-k Singular Values (S_k): [15.12497522]\n",
      "Final Result of LRM (approx):\n",
      "[[  -6.47680336   -6.32147208  -45.58942592]\n",
      " [ -14.66468176  -14.312983   -103.22289964]\n",
      " [ -20.0773458   -19.5958367  -141.32197919]]\n",
      "Percentage Error: 43.515522%\n"
     ]
    }
   ],
   "source": [
    "import numpy as np\n",
    "\n",
    "def LRM_percentage(matrix_A, matrix_B, percentage=100):\n",
    "    # SVD decomposition of matrix A\n",
    "    U, S, VT = np.linalg.svd(matrix_A, full_matrices=False)\n",
    "    \n",
    "    # Determine number of singular values to use of the S matrix\n",
    "    num_singular_values = len(S)\n",
    "    k = int(np.ceil(num_singular_values * (percentage / 100)))\n",
    "    k = max(1, min(k, num_singular_values))  # ensure at least 1, at most all\n",
    "\n",
    "    # Keep only top-k singular values\n",
    "    S_k = S[:k]\n",
    "    \n",
    "    print(f\"\\nUsing top {k} singular values ({percentage:.1f}%) for LRM\")\n",
    "    print(\"Original Singular Values (S):\", S)\n",
    "    print(\"Top-k Singular Values (S_k):\", S_k)\n",
    "\n",
    "    # Step 1: Multiply V^T and B\n",
    "    step1 = VT[:k, :] @ matrix_B  # only use top-k rows of VT\n",
    "\n",
    "    # Step 2: Scale each row by Sigma[i,i]\n",
    "    total = np.zeros_like(step1)\n",
    "    for i in range(k):\n",
    "        total[i, :] = S_k[i] * step1[i, :]\n",
    "\n",
    "    # Step 3: Multiply by U\n",
    "    final_result = U[:, :k] @ total  # only first k columns of U\n",
    "    print(\"Final Result of LRM (approx):\", final_result, sep=\"\\n\")\n",
    "    \n",
    "    return final_result\n",
    "\n",
    "# Example matrices, random numbers between -10 and 10\n",
    "matrix_A = np.random.randint(-10, 11, size=(3, 4))  \n",
    "matrix_B = np.random.randint(-10, 11, size=(4, 3))\n",
    "\n",
    "# Direct multiplication for comparison\n",
    "direct_result = matrix_A @ matrix_B\n",
    "\n",
    "# Test LRM with different percentages\n",
    "percentages = [100, 61.7, 33.3]\n",
    "for p in percentages:\n",
    "    result = LRM_percentage(matrix_A, matrix_B, percentage=p)\n",
    "    error_percentage = (np.linalg.norm(direct_result - result, 'fro') / np.linalg.norm(direct_result, 'fro')) * 100\n",
    "    print(f\"Percentage Error: {error_percentage:.6f}%\")\n"
   ]
  }
 ],
 "metadata": {
  "kernelspec": {
   "display_name": "Python 3",
   "language": "python",
   "name": "python3"
  },
  "language_info": {
   "codemirror_mode": {
    "name": "ipython",
    "version": 3
   },
   "file_extension": ".py",
   "mimetype": "text/x-python",
   "name": "python",
   "nbconvert_exporter": "python",
   "pygments_lexer": "ipython3",
   "version": "3.11.4"
  }
 },
 "nbformat": 4,
 "nbformat_minor": 5
}
