{
 "cells": [
  {
   "cell_type": "markdown",
   "id": "b803fcca",
   "metadata": {},
   "source": [
    "In this notebook, the progress of the Low-Rank Multiplication program is demonstrated. It involves two matrices, where SVD is performed on matrix A while matrix B remains unchanged. The percentage determines the number of vectors to retain from the sigma matrix, which are then used to multiply matrix A by matrix B."
   ]
  },
  {
   "cell_type": "code",
   "execution_count": null,
   "id": "4e52e531",
   "metadata": {},
   "outputs": [
    {
     "name": "stdout",
     "output_type": "stream",
     "text": [
      "\n",
      "Using top 3 singular values (100.0%) for LRM\n",
      "Original Singular Values (S): [9.72158252 5.04456835 2.24569887]\n",
      "Top-k Singular Values (S_k): [9.72158252 5.04456835 2.24569887]\n",
      "Final Result of LRM (approx):\n",
      "[[34. 30. 21.]\n",
      " [ 5. 22. 18.]\n",
      " [21. 23. 36.]]\n",
      "Percentage Error: 0.000000%\n",
      "\n",
      "Using top 2 singular values (61.7%) for LRM\n",
      "Original Singular Values (S): [9.72158252 5.04456835 2.24569887]\n",
      "Top-k Singular Values (S_k): [9.72158252 5.04456835]\n",
      "Final Result of LRM (approx):\n",
      "[[34.05349454 28.99828956 20.65750638]\n",
      " [ 5.68972038  9.08466219 13.5841323 ]\n",
      " [20.72272017 28.1921949  37.77525715]]\n",
      "Percentage Error: 19.741560%\n",
      "\n",
      "Using top 1 singular values (33.3%) for LRM\n",
      "Original Singular Values (S): [9.72158252 5.04456835 2.24569887]\n",
      "Top-k Singular Values (S_k): [9.72158252]\n",
      "Final Result of LRM (approx):\n",
      "[[35.10911005 34.6938514  32.76192158]\n",
      " [ 4.90415444  4.84614976  4.57629154]\n",
      " [18.97231815 18.74792    17.70394061]]\n",
      "Percentage Error: 42.124648%\n"
     ]
    }
   ],
   "source": [
    "import numpy as np\n",
    "\n",
    "def LRM_percentage(matrix_A, matrix_B, percentage=100):\n",
    "    # SVD decomposition of matrix A\n",
    "    U, S, VT = np.linalg.svd(matrix_A, full_matrices=False)\n",
    "    \n",
    "    # Determine number of singular values to use of the S matrix\n",
    "    num_singular_values = len(S)\n",
    "    k = int(np.ceil(num_singular_values * (percentage / 100)))\n",
    "    k = max(1, min(k, num_singular_values))  # ensure at least 1, at most all\n",
    "\n",
    "    # Keep only top-k singular values\n",
    "    S_k = S[:k]\n",
    "    \n",
    "    print(f\"\\nUsing top {k} singular values ({percentage:.1f}%) for LRM\")\n",
    "    print(\"Original Singular Values (S):\", S)\n",
    "    print(\"Top-k Singular Values (S_k):\", S_k)\n",
    "\n",
    "    # Step 1: Multiply V^T and B\n",
    "    step1 = VT[:k, :] @ matrix_B  # only use top-k rows of VT\n",
    "\n",
    "    # Step 2: Scale each row by Sigma[i,i]\n",
    "    total = np.zeros_like(step1)\n",
    "    for i in range(k):\n",
    "        total[i, :] = S_k[i] * step1[i, :]\n",
    "\n",
    "    # Step 3: Multiply by U\n",
    "    final_result = U[:, :k] @ total  # only first k columns of U\n",
    "    print(\"Final Result of LRM (approx):\", final_result, sep=\"\\n\")\n",
    "    \n",
    "    return final_result\n",
    "\n",
    "# Example matrices\n",
    "matrix_A = np.array([[1, 6, 4, 5],\n",
    "                     [2, -1, 0, 2],\n",
    "                     [4, 3, -2, 3]])\n",
    "\n",
    "matrix_B = np.array([[2, 5, 3],\n",
    "                     [3, -2, 0],\n",
    "                     [1, 3, -3],\n",
    "                     [2, 5, 6]])\n",
    "\n",
    "# Direct multiplication for comparison\n",
    "direct_result = matrix_A @ matrix_B\n",
    "\n",
    "# Test LRM with different percentages\n",
    "percentages = [100, 61.7, 33.3]\n",
    "for p in percentages:\n",
    "    result = LRM_percentage(matrix_A, matrix_B, percentage=p)\n",
    "    error_percentage = (np.linalg.norm(direct_result - result, 'fro') / np.linalg.norm(direct_result, 'fro')) * 100\n",
    "    print(f\"Percentage Error: {error_percentage:.6f}%\")\n"
   ]
  }
 ],
 "metadata": {
  "kernelspec": {
   "display_name": "Python 3",
   "language": "python",
   "name": "python3"
  },
  "language_info": {
   "codemirror_mode": {
    "name": "ipython",
    "version": 3
   },
   "file_extension": ".py",
   "mimetype": "text/x-python",
   "name": "python",
   "nbconvert_exporter": "python",
   "pygments_lexer": "ipython3",
   "version": "3.11.4"
  }
 },
 "nbformat": 4,
 "nbformat_minor": 5
}
