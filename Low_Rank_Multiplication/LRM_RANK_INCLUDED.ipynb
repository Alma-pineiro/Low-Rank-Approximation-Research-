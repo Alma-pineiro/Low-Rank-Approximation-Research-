{
 "cells": [
  {
   "cell_type": "markdown",
   "id": "b803fcca",
   "metadata": {},
   "source": [
    "<h1 style=\"color:pink;\">Low Rank Multiplication Rank Included</h1>\n",
    "<p style = \"font-size:20px;\">In this notebook, the progress of the Low-Rank Multiplication program is demonstrated. It involves two matrices, where SVD is performed on matrix A while matrix B remains unchanged. The percentage determines the number of vectors to retain from the sigma matrix, which are then used to multiply matrix A by matrix B.</p>"
   ]
  },
  {
   "cell_type": "code",
   "execution_count": 5,
   "id": "4e52e531",
   "metadata": {},
   "outputs": [
    {
     "name": "stdout",
     "output_type": "stream",
     "text": [
      "\n",
      "Using top 3 singular values (100.0%) for LRM\n",
      "Original Singular Values (S): [18.09645109 11.75409107  7.83324972]\n",
      "Top-k Singular Values (S_k): [18.09645109 11.75409107  7.83324972]\n",
      "Final Result of LRM (approx):\n",
      "[[ 46. -57.  81.]\n",
      " [-52.  28. -49.]\n",
      " [ 56. -58.  41.]]\n",
      "Percentage Error: 0.000000%\n",
      "\n",
      "Using top 2 singular values (61.7%) for LRM\n",
      "Original Singular Values (S): [18.09645109 11.75409107  7.83324972]\n",
      "Top-k Singular Values (S_k): [18.09645109 11.75409107]\n",
      "Final Result of LRM (approx):\n",
      "[[ 46.44703327 -56.15948741  81.6924217 ]\n",
      " [-45.94249751  39.38932483 -39.61737352]\n",
      " [ 60.27279697 -49.96628105  47.61824869]]\n",
      "Percentage Error: 12.128907%\n",
      "\n",
      "Using top 1 singular values (33.3%) for LRM\n",
      "Original Singular Values (S): [18.09645109 11.75409107  7.83324972]\n",
      "Top-k Singular Values (S_k): [18.09645109]\n",
      "Final Result of LRM (approx):\n",
      "[[-19.49912109  14.06852128 -10.06232502]\n",
      " [-27.76716138  20.03387224 -14.32896392]\n",
      " [ 41.40529177 -29.87371717  21.36678373]]\n",
      "Percentage Error: 89.611889%\n"
     ]
    }
   ],
   "source": [
    "import numpy as np\n",
    "\n",
    "def LRM_percentage(matrix_A, matrix_B, percentage):\n",
    "    # SVD decomposition of matrix A\n",
    "    U, S, VT = np.linalg.svd(matrix_A, full_matrices=False)\n",
    "    \n",
    "    # Determine number of singular values to use of the S matrix\n",
    "    num_singular_values = len(S)\n",
    "    k = int(np.ceil(num_singular_values * (percentage / 100)))\n",
    "    k = max(1, min(k, num_singular_values))  # ensure at least 1, at most all\n",
    "\n",
    "    # Keep only top-k singular values\n",
    "    S_k = S[:k]\n",
    "    \n",
    "    print(f\"\\nUsing top {k} singular values ({percentage:.1f}%) for LRM\")\n",
    "    print(\"Original Singular Values (S):\", S)\n",
    "    print(\"Top-k Singular Values (S_k):\", S_k)\n",
    "\n",
    "    # Step 1: Multiply V^T and B\n",
    "    step1 = VT[:k, :] @ matrix_B  # only use top-k rows of VT\n",
    "\n",
    "    # Step 2: Scale each row by Sigma[i,i] and multiply the result of step 1 by the diagonal values of S\n",
    "    total = np.zeros_like(step1)\n",
    "    for i in range(k):\n",
    "        total[i, :] = S_k[i] * step1[i, :]\n",
    "\n",
    "    # Step 3: Multiply by U\n",
    "    final_result = U[:, :k] @ total  # only first k columns of U\n",
    "    print(\"Final Result of LRM (approx):\", final_result, sep=\"\\n\")\n",
    "    \n",
    "    return final_result\n",
    "\n",
    "# Example matrices, random numbers between -10 and 10\n",
    "matrix_A = np.random.randint(-10, 11, size=(3, 4))  \n",
    "matrix_B = np.random.randint(-10, 11, size=(4, 3))\n",
    "\n",
    "# Direct multiplication for comparison\n",
    "direct_result = matrix_A @ matrix_B\n",
    "\n",
    "# Test LRM with different percentages\n",
    "percentages = [100, 61.7, 33.3]\n",
    "for p in percentages:\n",
    "    result = LRM_percentage(matrix_A, matrix_B, percentage=p)\n",
    "    error_percentage = (np.linalg.norm(direct_result - result, 'fro') / np.linalg.norm(direct_result, 'fro')) * 100\n",
    "    print(f\"Percentage Error: {error_percentage:.6f}%\")\n"
   ]
  }
 ],
 "metadata": {
  "kernelspec": {
   "display_name": "Python 3",
   "language": "python",
   "name": "python3"
  },
  "language_info": {
   "codemirror_mode": {
    "name": "ipython",
    "version": 3
   },
   "file_extension": ".py",
   "mimetype": "text/x-python",
   "name": "python",
   "nbconvert_exporter": "python",
   "pygments_lexer": "ipython3",
   "version": "3.11.4"
  }
 },
 "nbformat": 4,
 "nbformat_minor": 5
}
