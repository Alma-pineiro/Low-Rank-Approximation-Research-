{
 "cells": [
  {
   "cell_type": "markdown",
   "id": "b803fcca",
   "metadata": {},
   "source": [
    "<h1 style=\"color:pink;\">Low Rank Multiplication Rank Included</h1>\n",
    "<p style = \"font-size:20px;\">In this notebook, the progress of the Low-Rank Multiplication program is demonstrated. It involves two matrices, where SVD is performed on matrix A while matrix B remains unchanged. The percentage determines the number of vectors to retain from the sigma matrix, which are then used to multiply matrix A by matrix B.</p>"
   ]
  },
  {
   "cell_type": "code",
   "execution_count": null,
   "id": "4e52e531",
   "metadata": {},
   "outputs": [
    {
     "name": "stdout",
     "output_type": "stream",
     "text": [
      "\n",
      "Using top 3 singular values (100.0%) for LRM\n",
      "Original Singular Values (S): [16.88892086 12.35145141  3.34753644]\n",
      "Top-k Singular Values (S_k): [16.88892086 12.35145141  3.34753644]\n",
      "Final Result of LRM (approx):\n",
      "[[  81.  -17.  -55.]\n",
      " [ 178.   43. -125.]\n",
      " [  49.  -27.    5.]]\n",
      "Percentage Error: 0.000000%\n",
      "\n",
      "Using top 2 singular values (61.7%) for LRM\n",
      "Original Singular Values (S): [16.88892086 12.35145141  3.34753644]\n",
      "Top-k Singular Values (S_k): [16.88892086 12.35145141]\n",
      "Final Result of LRM (approx):\n",
      "[[  71.87032434   -5.55443031  -35.34291705]\n",
      " [ 180.32778152   40.08173799 -130.01194086]\n",
      " [  53.42471388  -32.54711612   -4.52684092]]\n",
      "Percentage Error: 11.205959%\n",
      "\n",
      "Using top 1 singular values (33.3%) for LRM\n",
      "Original Singular Values (S): [16.88892086 12.35145141  3.34753644]\n",
      "Top-k Singular Values (S_k): [16.88892086]\n",
      "Final Result of LRM (approx):\n",
      "[[ 78.45558309  -2.62566558 -41.21176503]\n",
      " [ 83.89209237  -2.80760872 -44.06749733]\n",
      " [117.74582024  -3.94058823 -61.85044946]]\n",
      "Percentage Error: 66.661254%\n"
     ]
    }
   ],
   "source": [
    "import numpy as np\n",
    "\n",
    "def LRM_percentage(matrix_A, matrix_B, percentage=100):\n",
    "    # SVD decomposition of matrix A\n",
    "    U, S, VT = np.linalg.svd(matrix_A, full_matrices=False)\n",
    "    \n",
    "    # Determine number of singular values to use of the S matrix\n",
    "    num_singular_values = len(S)\n",
    "    k = int(np.ceil(num_singular_values * (percentage / 100)))\n",
    "    k = max(1, min(k, num_singular_values))  # ensure at least 1, at most all\n",
    "\n",
    "    # Keep only top-k singular values\n",
    "    S_k = S[:k]\n",
    "    \n",
    "    print(f\"\\nUsing top {k} singular values ({percentage:.1f}%) for LRM\")\n",
    "    print(\"Original Singular Values (S):\", S)\n",
    "    print(\"Top-k Singular Values (S_k):\", S_k)\n",
    "\n",
    "    # Step 1: Multiply V^T and B\n",
    "    step1 = VT[:k, :] @ matrix_B  # only use top-k rows of VT\n",
    "\n",
    "    # Step 2: Scale each row by Sigma[i,i] and multiply the result of step 1 by the diagonal values of S\n",
    "    total = np.zeros_like(step1)\n",
    "    for i in range(k):\n",
    "        total[i, :] = S_k[i] * step1[i, :]\n",
    "\n",
    "    # Step 3: Multiply by U\n",
    "    final_result = U[:, :k] @ total  # only first k columns of U\n",
    "    print(\"Final Result of LRM (approx):\", final_result, sep=\"\\n\")\n",
    "    \n",
    "    return final_result\n",
    "\n",
    "# Example matrices, random numbers between -10 and 10\n",
    "matrix_A = np.random.randint(-10, 11, size=(3, 4))  \n",
    "matrix_B = np.random.randint(-10, 11, size=(4, 3))\n",
    "\n",
    "# Direct multiplication for comparison\n",
    "direct_result = matrix_A @ matrix_B\n",
    "\n",
    "# Test LRM with different percentages\n",
    "percentages = [100, 61.7, 33.3]\n",
    "for p in percentages:\n",
    "    result = LRM_percentage(matrix_A, matrix_B, percentage=p)\n",
    "    error_percentage = (np.linalg.norm(direct_result - result, 'fro') / np.linalg.norm(direct_result, 'fro')) * 100\n",
    "    print(f\"Percentage Error: {error_percentage:.6f}%\")\n"
   ]
  }
 ],
 "metadata": {
  "kernelspec": {
   "display_name": "Python 3",
   "language": "python",
   "name": "python3"
  },
  "language_info": {
   "codemirror_mode": {
    "name": "ipython",
    "version": 3
   },
   "file_extension": ".py",
   "mimetype": "text/x-python",
   "name": "python",
   "nbconvert_exporter": "python",
   "pygments_lexer": "ipython3",
   "version": "3.11.4"
  }
 },
 "nbformat": 4,
 "nbformat_minor": 5
}
