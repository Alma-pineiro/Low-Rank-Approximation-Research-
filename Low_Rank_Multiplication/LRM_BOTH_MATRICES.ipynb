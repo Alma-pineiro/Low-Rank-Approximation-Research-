{
 "cells": [
  {
   "cell_type": "markdown",
   "id": "3a388045",
   "metadata": {},
   "source": [
    "<h1 style=\"color:pink;\">Low Rank Multiplication Both Matrices</h1>\n",
    "<p style=\"font-size:20px;\">\n",
    "In this notebook, we demonstrate the Low-Rank Multiplication algorithm applied to both matrices. Each matrix undergoes Singular Value Decomposition (SVD), and then they are multiplied together to observe how different percentage values affect the final results.\n",
    "</p>"
   ]
  },
  {
   "cell_type": "code",
   "execution_count": null,
   "id": "badfc5a7",
   "metadata": {},
   "outputs": [
    {
     "name": "stdout",
     "output_type": "stream",
     "text": [
      "Matrix A:\n",
      "[[ 6 -7  0 -3]\n",
      " [ 6  3  1 -6]\n",
      " [10  7  8 -8]]\n",
      "\n",
      "Matrix B:\n",
      "[[  9   3  -1]\n",
      " [ -1  -5   7]\n",
      " [  9  -1   6]\n",
      " [  7 -10  -3]]\n",
      "Matrix A - U:\n",
      "[[ 0.1742103   0.97050077  0.16667041]\n",
      " [ 0.45730254  0.07016277 -0.8865391 ]\n",
      " [ 0.87208094 -0.23066305  0.43158939]]\n",
      "Matrix B - U:\n",
      "[[-0.42723795  0.64535921  0.0434123 ]\n",
      " [-0.14882587 -0.59617837 -0.56811185]\n",
      " [-0.60604564  0.17228988 -0.55013997]\n",
      " [-0.65423793 -0.44542008  0.61050005]]\n",
      "Matrix A - S:\n",
      "[18.86350743  9.38440996  3.01677595]\n",
      "Matrix B - S:\n",
      "[15.40981156 10.67765992  9.51447772]\n",
      "Matrix A - VT:\n",
      "[[ 0.66317923  0.33169876  0.39409161 -0.54301108]\n",
      " [ 0.41956296 -0.8735401  -0.18915857 -0.15847289]\n",
      " [-0.00109994 -0.26690231  0.85063526  0.45296976]]\n",
      "Matrix B - VT:\n",
      "[[-0.89101622  0.42900203 -0.14848353]\n",
      " [ 0.45300933  0.86150715 -0.22932068]\n",
      " [ 0.02954058 -0.27159287 -0.96195877]]\n"
     ]
    }
   ],
   "source": [
    "import numpy as np \n",
    "\n",
    "def LRM_BOTH(matrix_A, matrix_B, percentage):\n",
    "    # SVD decomposition of matrix A\n",
    "    U_A, S_A, VT_A = np.linalg.svd(matrix_A, full_matrices=False)\n",
    "\n",
    "    # SVD decomposition of matrix B\n",
    "    U_B, S_B, VT_B = np.linalg.svd(matrix_B, full_matrices=False)\n",
    "\n",
    "    #Print the results of the SVD for both matrices\n",
    "    print(\"Matrix A - U:\")\n",
    "    print(U_A)\n",
    "    print(\"Matrix B - U:\")\n",
    "    print(U_B)\n",
    "    print(\"Matrix A - S:\")\n",
    "    print(S_A)\n",
    "    print(\"Matrix B - S:\")\n",
    "    print(S_B)\n",
    "    print(\"Matrix A - VT:\")\n",
    "    print(VT_A)\n",
    "    print(\"Matrix B - VT:\")\n",
    "    print(VT_B)\n",
    "\n",
    "    #return U_A, S_A, VT_A, U_B, S_B, VT_B\n",
    "\n",
    "\n",
    "# Generate random test matrices\n",
    "matrix_A = np.random.randint(-10, 11, size=(3, 4))  \n",
    "matrix_B = np.random.randint(-10, 11, size=(4, 3))\n",
    "\n",
    "print(\"Matrix A:\")\n",
    "print(matrix_A)\n",
    "print(\"\\nMatrix B:\")\n",
    "print(matrix_B)\n",
    "\n",
    "# Test the function\n",
    "LRM_BOTH(matrix_A, matrix_B, percentage=100)\n"
   ]
  }
 ],
 "metadata": {
  "kernelspec": {
   "display_name": "Python 3",
   "language": "python",
   "name": "python3"
  },
  "language_info": {
   "codemirror_mode": {
    "name": "ipython",
    "version": 3
   },
   "file_extension": ".py",
   "mimetype": "text/x-python",
   "name": "python",
   "nbconvert_exporter": "python",
   "pygments_lexer": "ipython3",
   "version": "3.11.4"
  }
 },
 "nbformat": 4,
 "nbformat_minor": 5
}
